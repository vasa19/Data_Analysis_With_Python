{
 "cells": [
  {
   "cell_type": "markdown",
   "id": "797b7337",
   "metadata": {},
   "source": [
    "## Load in Numpy"
   ]
  },
  {
   "cell_type": "code",
   "execution_count": 2,
   "id": "e7897834",
   "metadata": {
    "ExecuteTime": {
     "end_time": "2022-03-26T06:35:34.255262Z",
     "start_time": "2022-03-26T06:35:32.940779Z"
    }
   },
   "outputs": [],
   "source": [
    "import numpy as np"
   ]
  },
  {
   "cell_type": "markdown",
   "id": "eea6a79b",
   "metadata": {},
   "source": [
    "## The Baiscs"
   ]
  },
  {
   "cell_type": "code",
   "execution_count": 9,
   "id": "9df2da5b",
   "metadata": {
    "ExecuteTime": {
     "end_time": "2022-03-25T20:42:44.831899Z",
     "start_time": "2022-03-25T20:42:44.827024Z"
    }
   },
   "outputs": [
    {
     "name": "stdout",
     "output_type": "stream",
     "text": [
      "[1 2 3]\n"
     ]
    }
   ],
   "source": [
    "a = np.array([1, 2, 3], dtype = 'int16')\n",
    "print(a)"
   ]
  },
  {
   "cell_type": "code",
   "execution_count": 4,
   "id": "1e45b828",
   "metadata": {
    "ExecuteTime": {
     "end_time": "2022-03-25T20:40:25.221873Z",
     "start_time": "2022-03-25T20:40:25.218483Z"
    }
   },
   "outputs": [
    {
     "name": "stdout",
     "output_type": "stream",
     "text": [
      "[[9. 8. 7.]\n",
      " [6. 5. 4.]]\n"
     ]
    }
   ],
   "source": [
    "b = np.array([[9.0, 8.0, 7.0], [6.0, 5.0, 4.0]])\n",
    "print(b)"
   ]
  },
  {
   "cell_type": "code",
   "execution_count": 5,
   "id": "e081da88",
   "metadata": {
    "ExecuteTime": {
     "end_time": "2022-03-25T20:40:42.014821Z",
     "start_time": "2022-03-25T20:40:42.004103Z"
    }
   },
   "outputs": [
    {
     "data": {
      "text/plain": [
       "1"
      ]
     },
     "execution_count": 5,
     "metadata": {},
     "output_type": "execute_result"
    }
   ],
   "source": [
    "# Get Dimension\n",
    "a.ndim"
   ]
  },
  {
   "cell_type": "code",
   "execution_count": 6,
   "id": "3aba5447",
   "metadata": {
    "ExecuteTime": {
     "end_time": "2022-03-25T20:40:47.826452Z",
     "start_time": "2022-03-25T20:40:47.822251Z"
    }
   },
   "outputs": [
    {
     "data": {
      "text/plain": [
       "2"
      ]
     },
     "execution_count": 6,
     "metadata": {},
     "output_type": "execute_result"
    }
   ],
   "source": [
    "b.ndim"
   ]
  },
  {
   "cell_type": "code",
   "execution_count": 7,
   "id": "5d9202b6",
   "metadata": {
    "ExecuteTime": {
     "end_time": "2022-03-25T20:40:59.765097Z",
     "start_time": "2022-03-25T20:40:59.760252Z"
    }
   },
   "outputs": [
    {
     "data": {
      "text/plain": [
       "(2, 3)"
      ]
     },
     "execution_count": 7,
     "metadata": {},
     "output_type": "execute_result"
    }
   ],
   "source": [
    "# Get Shape\n",
    "b.shape"
   ]
  },
  {
   "cell_type": "code",
   "execution_count": 10,
   "id": "d9eda5c4",
   "metadata": {
    "ExecuteTime": {
     "end_time": "2022-03-25T20:42:47.830033Z",
     "start_time": "2022-03-25T20:42:47.824898Z"
    }
   },
   "outputs": [
    {
     "data": {
      "text/plain": [
       "dtype('int16')"
      ]
     },
     "execution_count": 10,
     "metadata": {},
     "output_type": "execute_result"
    }
   ],
   "source": [
    "# Get Type\n",
    "a.dtype"
   ]
  },
  {
   "cell_type": "code",
   "execution_count": 11,
   "id": "dcbfea3d",
   "metadata": {
    "ExecuteTime": {
     "end_time": "2022-03-25T20:43:05.261098Z",
     "start_time": "2022-03-25T20:43:05.255664Z"
    }
   },
   "outputs": [
    {
     "data": {
      "text/plain": [
       "2"
      ]
     },
     "execution_count": 11,
     "metadata": {},
     "output_type": "execute_result"
    }
   ],
   "source": [
    "# Get Size (in bytes)\n",
    "a.itemsize"
   ]
  },
  {
   "cell_type": "code",
   "execution_count": 12,
   "id": "e79b6b5d",
   "metadata": {
    "ExecuteTime": {
     "end_time": "2022-03-25T20:43:56.409656Z",
     "start_time": "2022-03-25T20:43:56.404680Z"
    }
   },
   "outputs": [
    {
     "data": {
      "text/plain": [
       "6"
      ]
     },
     "execution_count": 12,
     "metadata": {},
     "output_type": "execute_result"
    }
   ],
   "source": [
    "# Get total size\n",
    "a.nbytes"
   ]
  },
  {
   "cell_type": "markdown",
   "id": "5d74ef88",
   "metadata": {},
   "source": [
    "## Accessing/Changing specific elements, rows, columns, etc"
   ]
  },
  {
   "cell_type": "code",
   "execution_count": 13,
   "id": "1fbe4fad",
   "metadata": {
    "ExecuteTime": {
     "end_time": "2022-03-25T20:45:31.261105Z",
     "start_time": "2022-03-25T20:45:31.256532Z"
    }
   },
   "outputs": [
    {
     "name": "stdout",
     "output_type": "stream",
     "text": [
      "[[ 1  2  3  4  5  6  7]\n",
      " [ 8  9 10 11 12 13 14]]\n"
     ]
    }
   ],
   "source": [
    "a = np.array([[1, 2, 3, 4, 5, 6, 7], [8, 9, 10, 11, 12, 13, 14]])\n",
    "print(a)"
   ]
  },
  {
   "cell_type": "code",
   "execution_count": 14,
   "id": "ce594652",
   "metadata": {
    "ExecuteTime": {
     "end_time": "2022-03-25T20:45:58.051678Z",
     "start_time": "2022-03-25T20:45:58.046753Z"
    }
   },
   "outputs": [
    {
     "data": {
      "text/plain": [
       "13"
      ]
     },
     "execution_count": 14,
     "metadata": {},
     "output_type": "execute_result"
    }
   ],
   "source": [
    "# Get a specific element [R, C]\n",
    "a[1, 5]"
   ]
  },
  {
   "cell_type": "code",
   "execution_count": 15,
   "id": "26854117",
   "metadata": {
    "ExecuteTime": {
     "end_time": "2022-03-25T20:47:19.682818Z",
     "start_time": "2022-03-25T20:47:19.677648Z"
    }
   },
   "outputs": [
    {
     "data": {
      "text/plain": [
       "array([1, 2, 3, 4, 5, 6, 7])"
      ]
     },
     "execution_count": 15,
     "metadata": {},
     "output_type": "execute_result"
    }
   ],
   "source": [
    "# Get a specific row\n",
    "a[0, :]"
   ]
  },
  {
   "cell_type": "code",
   "execution_count": 16,
   "id": "9cd406a6",
   "metadata": {
    "ExecuteTime": {
     "end_time": "2022-03-25T20:47:39.541983Z",
     "start_time": "2022-03-25T20:47:39.536781Z"
    }
   },
   "outputs": [
    {
     "data": {
      "text/plain": [
       "array([ 3, 10])"
      ]
     },
     "execution_count": 16,
     "metadata": {},
     "output_type": "execute_result"
    }
   ],
   "source": [
    "# Get a specific column\n",
    "a[:, 2]"
   ]
  },
  {
   "cell_type": "code",
   "execution_count": 18,
   "id": "b8a6f7d4",
   "metadata": {
    "ExecuteTime": {
     "end_time": "2022-03-25T20:49:03.196102Z",
     "start_time": "2022-03-25T20:49:03.190978Z"
    }
   },
   "outputs": [
    {
     "data": {
      "text/plain": [
       "array([2, 4, 6])"
      ]
     },
     "execution_count": 18,
     "metadata": {},
     "output_type": "execute_result"
    }
   ],
   "source": [
    "# Getting more fancy[startindex:endindex;stepsize]\n",
    "a[0, 1:6:2]"
   ]
  },
  {
   "cell_type": "code",
   "execution_count": 19,
   "id": "5f25c255",
   "metadata": {
    "ExecuteTime": {
     "end_time": "2022-03-25T20:49:22.173341Z",
     "start_time": "2022-03-25T20:49:22.168238Z"
    }
   },
   "outputs": [
    {
     "name": "stdout",
     "output_type": "stream",
     "text": [
      "[[ 1  2  3  4  5  6  7]\n",
      " [ 8  9 10 11 12 20 14]]\n"
     ]
    }
   ],
   "source": [
    "a[1, 5] = 20\n",
    "print(a)"
   ]
  },
  {
   "cell_type": "code",
   "execution_count": 20,
   "id": "749d9afe",
   "metadata": {
    "ExecuteTime": {
     "end_time": "2022-03-25T20:49:38.431443Z",
     "start_time": "2022-03-25T20:49:38.426475Z"
    }
   },
   "outputs": [
    {
     "name": "stdout",
     "output_type": "stream",
     "text": [
      "[[ 1  2  5  4  5  6  7]\n",
      " [ 8  9  5 11 12 20 14]]\n"
     ]
    }
   ],
   "source": [
    "a[:, 2] = 5\n",
    "print(a)"
   ]
  },
  {
   "cell_type": "code",
   "execution_count": 21,
   "id": "ef2facec",
   "metadata": {
    "ExecuteTime": {
     "end_time": "2022-03-25T20:50:26.162006Z",
     "start_time": "2022-03-25T20:50:26.157336Z"
    }
   },
   "outputs": [
    {
     "name": "stdout",
     "output_type": "stream",
     "text": [
      "[[ 1  2  1  4  5  6  7]\n",
      " [ 8  9  2 11 12 20 14]]\n"
     ]
    }
   ],
   "source": [
    "a[:, 2] = [1, 2]\n",
    "print(a)"
   ]
  },
  {
   "cell_type": "code",
   "execution_count": 22,
   "id": "4a14e00a",
   "metadata": {
    "ExecuteTime": {
     "end_time": "2022-03-25T20:52:11.344854Z",
     "start_time": "2022-03-25T20:52:11.340195Z"
    }
   },
   "outputs": [
    {
     "name": "stdout",
     "output_type": "stream",
     "text": [
      "[[[1 2]\n",
      "  [3 4]]\n",
      "\n",
      " [[5 6]\n",
      "  [7 8]]]\n"
     ]
    }
   ],
   "source": [
    "# 3D Example\n",
    "b = np.array([[[1, 2], [3, 4]], [[5, 6], [7, 8]]])\n",
    "print(b)"
   ]
  },
  {
   "cell_type": "code",
   "execution_count": 23,
   "id": "1b3e116d",
   "metadata": {
    "ExecuteTime": {
     "end_time": "2022-03-25T20:56:39.399763Z",
     "start_time": "2022-03-25T20:56:39.393518Z"
    }
   },
   "outputs": [
    {
     "data": {
      "text/plain": [
       "4"
      ]
     },
     "execution_count": 23,
     "metadata": {},
     "output_type": "execute_result"
    }
   ],
   "source": [
    "# Get a specific element(work outside in)\n",
    "b[0, 1, 1]"
   ]
  },
  {
   "cell_type": "code",
   "execution_count": 24,
   "id": "219e241d",
   "metadata": {
    "ExecuteTime": {
     "end_time": "2022-03-25T20:58:09.679085Z",
     "start_time": "2022-03-25T20:58:09.674724Z"
    }
   },
   "outputs": [
    {
     "name": "stdout",
     "output_type": "stream",
     "text": [
      "[[[1 2]\n",
      "  [9 9]]\n",
      "\n",
      " [[5 6]\n",
      "  [8 8]]]\n"
     ]
    }
   ],
   "source": [
    "# Replace\n",
    "b[:, 1, :] = [[9, 9], [8, 8]]\n",
    "print(b)"
   ]
  },
  {
   "cell_type": "markdown",
   "id": "39d86fe9",
   "metadata": {},
   "source": [
    "## Initializing Different Types of Arrays"
   ]
  },
  {
   "cell_type": "code",
   "execution_count": 25,
   "id": "ed56f8ba",
   "metadata": {
    "ExecuteTime": {
     "end_time": "2022-03-25T20:59:31.151443Z",
     "start_time": "2022-03-25T20:59:31.144492Z"
    }
   },
   "outputs": [
    {
     "data": {
      "text/plain": [
       "array([[0., 0., 0.],\n",
       "       [0., 0., 0.]])"
      ]
     },
     "execution_count": 25,
     "metadata": {},
     "output_type": "execute_result"
    }
   ],
   "source": [
    "# All 0s matrix\n",
    "np.zeros((2, 3))"
   ]
  },
  {
   "cell_type": "code",
   "execution_count": 26,
   "id": "e34466c7",
   "metadata": {
    "ExecuteTime": {
     "end_time": "2022-03-25T20:59:58.616285Z",
     "start_time": "2022-03-25T20:59:58.610955Z"
    }
   },
   "outputs": [
    {
     "data": {
      "text/plain": [
       "array([[1., 1.],\n",
       "       [1., 1.],\n",
       "       [1., 1.],\n",
       "       [1., 1.]])"
      ]
     },
     "execution_count": 26,
     "metadata": {},
     "output_type": "execute_result"
    }
   ],
   "source": [
    "# All 1s matrix\n",
    "np.ones((4, 2))"
   ]
  },
  {
   "cell_type": "code",
   "execution_count": 27,
   "id": "3958e81f",
   "metadata": {
    "ExecuteTime": {
     "end_time": "2022-03-25T21:00:37.347513Z",
     "start_time": "2022-03-25T21:00:37.342616Z"
    }
   },
   "outputs": [
    {
     "data": {
      "text/plain": [
       "array([[99, 99],\n",
       "       [99, 99]])"
      ]
     },
     "execution_count": 27,
     "metadata": {},
     "output_type": "execute_result"
    }
   ],
   "source": [
    "# Any other number\n",
    "np.full((2, 2), 99)"
   ]
  },
  {
   "cell_type": "code",
   "execution_count": 28,
   "id": "184cbcda",
   "metadata": {
    "ExecuteTime": {
     "end_time": "2022-03-25T21:02:47.638743Z",
     "start_time": "2022-03-25T21:02:47.633694Z"
    }
   },
   "outputs": [
    {
     "data": {
      "text/plain": [
       "array([[4, 4, 4, 4, 4, 4, 4],\n",
       "       [4, 4, 4, 4, 4, 4, 4]])"
      ]
     },
     "execution_count": 28,
     "metadata": {},
     "output_type": "execute_result"
    }
   ],
   "source": [
    "# Any other number(full_like)\n",
    "np.full_like(a, 4)"
   ]
  },
  {
   "cell_type": "code",
   "execution_count": 29,
   "id": "b0a918c9",
   "metadata": {
    "ExecuteTime": {
     "end_time": "2022-03-25T21:03:39.422288Z",
     "start_time": "2022-03-25T21:03:39.415916Z"
    }
   },
   "outputs": [
    {
     "data": {
      "text/plain": [
       "array([[0.36161637, 0.24896592],\n",
       "       [0.65725776, 0.43484032],\n",
       "       [0.92447159, 0.24582929],\n",
       "       [0.66295732, 0.95828328]])"
      ]
     },
     "execution_count": 29,
     "metadata": {},
     "output_type": "execute_result"
    }
   ],
   "source": [
    "# Random decimal numbers\n",
    "np.random.rand(4, 2)"
   ]
  },
  {
   "cell_type": "code",
   "execution_count": 31,
   "id": "e080c17c",
   "metadata": {
    "ExecuteTime": {
     "end_time": "2022-03-25T21:05:38.823336Z",
     "start_time": "2022-03-25T21:05:38.818191Z"
    }
   },
   "outputs": [
    {
     "data": {
      "text/plain": [
       "array([[-2, -2,  1],\n",
       "       [-3,  0,  5],\n",
       "       [ 5,  5,  3]])"
      ]
     },
     "execution_count": 31,
     "metadata": {},
     "output_type": "execute_result"
    }
   ],
   "source": [
    "# Random integer values\n",
    "np.random.randint(-4, 7, size = (3, 3))"
   ]
  },
  {
   "cell_type": "code",
   "execution_count": 32,
   "id": "eee19d8a",
   "metadata": {
    "ExecuteTime": {
     "end_time": "2022-03-25T21:06:02.069566Z",
     "start_time": "2022-03-25T21:06:02.063946Z"
    }
   },
   "outputs": [
    {
     "data": {
      "text/plain": [
       "array([[1., 0., 0., 0., 0.],\n",
       "       [0., 1., 0., 0., 0.],\n",
       "       [0., 0., 1., 0., 0.],\n",
       "       [0., 0., 0., 1., 0.],\n",
       "       [0., 0., 0., 0., 1.]])"
      ]
     },
     "execution_count": 32,
     "metadata": {},
     "output_type": "execute_result"
    }
   ],
   "source": [
    "# The identity matrix\n",
    "np.identity(5)"
   ]
  },
  {
   "cell_type": "code",
   "execution_count": 34,
   "id": "f4f78d51",
   "metadata": {
    "ExecuteTime": {
     "end_time": "2022-03-25T21:08:38.402983Z",
     "start_time": "2022-03-25T21:08:38.398610Z"
    }
   },
   "outputs": [
    {
     "name": "stdout",
     "output_type": "stream",
     "text": [
      "[[1 2 3]\n",
      " [1 2 3]\n",
      " [1 2 3]]\n"
     ]
    }
   ],
   "source": [
    "# Repeat an array\n",
    "arr = np.array([[1, 2, 3]])\n",
    "r1 = np.repeat(arr, 3, axis = 0)\n",
    "print(r1)"
   ]
  },
  {
   "cell_type": "code",
   "execution_count": 37,
   "id": "1c7e27ff",
   "metadata": {
    "ExecuteTime": {
     "end_time": "2022-03-25T21:11:35.468171Z",
     "start_time": "2022-03-25T21:11:35.461236Z"
    }
   },
   "outputs": [
    {
     "name": "stdout",
     "output_type": "stream",
     "text": [
      "[[1. 1. 1. 1. 1.]\n",
      " [1. 1. 1. 1. 1.]\n",
      " [1. 1. 1. 1. 1.]\n",
      " [1. 1. 1. 1. 1.]\n",
      " [1. 1. 1. 1. 1.]]\n",
      "[[0. 0. 0.]\n",
      " [0. 9. 0.]\n",
      " [0. 0. 0.]]\n",
      "[[1. 1. 1. 1. 1.]\n",
      " [1. 0. 0. 0. 1.]\n",
      " [1. 0. 9. 0. 1.]\n",
      " [1. 0. 0. 0. 1.]\n",
      " [1. 1. 1. 1. 1.]]\n"
     ]
    }
   ],
   "source": [
    "output = np.ones((5, 5))\n",
    "print(output)\n",
    "\n",
    "z = np.zeros((3, 3))\n",
    "z[1, 1] = 9\n",
    "print(z)\n",
    "\n",
    "output[1:4, 1:4] = z\n",
    "print(output)"
   ]
  },
  {
   "cell_type": "markdown",
   "id": "b15e3bcf",
   "metadata": {},
   "source": [
    "##### Be careful when copying arrays!!"
   ]
  },
  {
   "cell_type": "code",
   "execution_count": 4,
   "id": "c23cfbfc",
   "metadata": {
    "ExecuteTime": {
     "end_time": "2022-03-26T06:36:06.725319Z",
     "start_time": "2022-03-26T06:36:06.720359Z"
    }
   },
   "outputs": [
    {
     "name": "stdout",
     "output_type": "stream",
     "text": [
      "[100   2   3]\n",
      "[1 2 3]\n"
     ]
    }
   ],
   "source": [
    "a = np.array([1, 2, 3])\n",
    "b = a.copy()\n",
    "b[0] = 100\n",
    "print(b)\n",
    "print(a)"
   ]
  },
  {
   "cell_type": "markdown",
   "id": "77d22166",
   "metadata": {},
   "source": [
    "## Mathematics"
   ]
  },
  {
   "cell_type": "code",
   "execution_count": 5,
   "id": "0e804514",
   "metadata": {
    "ExecuteTime": {
     "end_time": "2022-03-26T06:36:40.685987Z",
     "start_time": "2022-03-26T06:36:40.681571Z"
    }
   },
   "outputs": [
    {
     "name": "stdout",
     "output_type": "stream",
     "text": [
      "[1 2 3 4]\n"
     ]
    }
   ],
   "source": [
    "a = np.array([1, 2, 3, 4])\n",
    "print(a)"
   ]
  },
  {
   "cell_type": "code",
   "execution_count": 6,
   "id": "47d5fc25",
   "metadata": {
    "ExecuteTime": {
     "end_time": "2022-03-26T06:36:45.219579Z",
     "start_time": "2022-03-26T06:36:45.209576Z"
    }
   },
   "outputs": [
    {
     "data": {
      "text/plain": [
       "array([3, 4, 5, 6])"
      ]
     },
     "execution_count": 6,
     "metadata": {},
     "output_type": "execute_result"
    }
   ],
   "source": [
    "a + 2"
   ]
  },
  {
   "cell_type": "code",
   "execution_count": 7,
   "id": "ff872c02",
   "metadata": {
    "ExecuteTime": {
     "end_time": "2022-03-26T06:36:49.595120Z",
     "start_time": "2022-03-26T06:36:49.589664Z"
    }
   },
   "outputs": [
    {
     "data": {
      "text/plain": [
       "array([-1,  0,  1,  2])"
      ]
     },
     "execution_count": 7,
     "metadata": {},
     "output_type": "execute_result"
    }
   ],
   "source": [
    "a - 2"
   ]
  },
  {
   "cell_type": "code",
   "execution_count": 8,
   "id": "cfb7698a",
   "metadata": {
    "ExecuteTime": {
     "end_time": "2022-03-26T06:37:03.271064Z",
     "start_time": "2022-03-26T06:37:03.266493Z"
    }
   },
   "outputs": [
    {
     "data": {
      "text/plain": [
       "array([2, 4, 6, 8])"
      ]
     },
     "execution_count": 8,
     "metadata": {},
     "output_type": "execute_result"
    }
   ],
   "source": [
    "a * 2"
   ]
  },
  {
   "cell_type": "code",
   "execution_count": 9,
   "id": "183f8e71",
   "metadata": {
    "ExecuteTime": {
     "end_time": "2022-03-26T06:37:28.927107Z",
     "start_time": "2022-03-26T06:37:28.920459Z"
    }
   },
   "outputs": [
    {
     "data": {
      "text/plain": [
       "array([2, 2, 4, 4])"
      ]
     },
     "execution_count": 9,
     "metadata": {},
     "output_type": "execute_result"
    }
   ],
   "source": [
    "b = np.array([1, 0, 1, 0])\n",
    "a + b"
   ]
  },
  {
   "cell_type": "code",
   "execution_count": 10,
   "id": "7462b579",
   "metadata": {
    "ExecuteTime": {
     "end_time": "2022-03-26T06:37:43.771033Z",
     "start_time": "2022-03-26T06:37:43.766031Z"
    }
   },
   "outputs": [
    {
     "data": {
      "text/plain": [
       "array([1, 0, 3, 0])"
      ]
     },
     "execution_count": 10,
     "metadata": {},
     "output_type": "execute_result"
    }
   ],
   "source": [
    "a * b"
   ]
  },
  {
   "cell_type": "code",
   "execution_count": 11,
   "id": "cc1d3f8b",
   "metadata": {
    "ExecuteTime": {
     "end_time": "2022-03-26T06:37:57.964561Z",
     "start_time": "2022-03-26T06:37:57.959841Z"
    }
   },
   "outputs": [
    {
     "data": {
      "text/plain": [
       "array([ 0.84147098,  0.90929743,  0.14112001, -0.7568025 ])"
      ]
     },
     "execution_count": 11,
     "metadata": {},
     "output_type": "execute_result"
    }
   ],
   "source": [
    "# Take the sin\n",
    "np.sin(a)"
   ]
  },
  {
   "cell_type": "markdown",
   "id": "b868c8fe",
   "metadata": {},
   "source": [
    "## Linear Algebra"
   ]
  },
  {
   "cell_type": "code",
   "execution_count": 12,
   "id": "92684068",
   "metadata": {
    "ExecuteTime": {
     "end_time": "2022-03-26T06:39:48.389690Z",
     "start_time": "2022-03-26T06:39:48.385259Z"
    }
   },
   "outputs": [
    {
     "name": "stdout",
     "output_type": "stream",
     "text": [
      "[[1. 1. 1.]\n",
      " [1. 1. 1.]]\n",
      "[[2 2]\n",
      " [2 2]\n",
      " [2 2]]\n"
     ]
    }
   ],
   "source": [
    "a = np.ones((2, 3))\n",
    "print(a)\n",
    "\n",
    "b = np.full((3, 2), 2)\n",
    "print(b)"
   ]
  },
  {
   "cell_type": "code",
   "execution_count": 13,
   "id": "63bd0d42",
   "metadata": {
    "ExecuteTime": {
     "end_time": "2022-03-26T06:40:45.096561Z",
     "start_time": "2022-03-26T06:40:45.087251Z"
    }
   },
   "outputs": [
    {
     "data": {
      "text/plain": [
       "array([[6., 6.],\n",
       "       [6., 6.]])"
      ]
     },
     "execution_count": 13,
     "metadata": {},
     "output_type": "execute_result"
    }
   ],
   "source": [
    "np.matmul(a, b)"
   ]
  },
  {
   "cell_type": "code",
   "execution_count": 14,
   "id": "871d4ad2",
   "metadata": {
    "ExecuteTime": {
     "end_time": "2022-03-26T06:41:31.085512Z",
     "start_time": "2022-03-26T06:41:31.077512Z"
    }
   },
   "outputs": [
    {
     "data": {
      "text/plain": [
       "1.0"
      ]
     },
     "execution_count": 14,
     "metadata": {},
     "output_type": "execute_result"
    }
   ],
   "source": [
    "# Find the determinant\n",
    "c = np.identity(3)\n",
    "np.linalg.det(c)"
   ]
  },
  {
   "cell_type": "markdown",
   "id": "25c68b64",
   "metadata": {},
   "source": [
    "## Statistics"
   ]
  },
  {
   "cell_type": "code",
   "execution_count": 17,
   "id": "69575f57",
   "metadata": {
    "ExecuteTime": {
     "end_time": "2022-03-26T06:44:20.100483Z",
     "start_time": "2022-03-26T06:44:20.095074Z"
    }
   },
   "outputs": [
    {
     "data": {
      "text/plain": [
       "array([[1, 2, 3],\n",
       "       [4, 5, 6]])"
      ]
     },
     "execution_count": 17,
     "metadata": {},
     "output_type": "execute_result"
    }
   ],
   "source": [
    "stats = np.array([[1,2 ,3], [4, 5, 6]])\n",
    "stats"
   ]
  },
  {
   "cell_type": "code",
   "execution_count": 18,
   "id": "de1faf32",
   "metadata": {
    "ExecuteTime": {
     "end_time": "2022-03-26T06:44:30.121494Z",
     "start_time": "2022-03-26T06:44:30.116238Z"
    }
   },
   "outputs": [
    {
     "data": {
      "text/plain": [
       "1"
      ]
     },
     "execution_count": 18,
     "metadata": {},
     "output_type": "execute_result"
    }
   ],
   "source": [
    "np.min(stats)"
   ]
  },
  {
   "cell_type": "code",
   "execution_count": 19,
   "id": "0da2ca23",
   "metadata": {
    "ExecuteTime": {
     "end_time": "2022-03-26T06:44:44.069315Z",
     "start_time": "2022-03-26T06:44:44.064561Z"
    }
   },
   "outputs": [
    {
     "data": {
      "text/plain": [
       "6"
      ]
     },
     "execution_count": 19,
     "metadata": {},
     "output_type": "execute_result"
    }
   ],
   "source": [
    "np.max(stats)"
   ]
  },
  {
   "cell_type": "code",
   "execution_count": 20,
   "id": "4df118c8",
   "metadata": {
    "ExecuteTime": {
     "end_time": "2022-03-26T06:44:56.490599Z",
     "start_time": "2022-03-26T06:44:56.485390Z"
    }
   },
   "outputs": [
    {
     "data": {
      "text/plain": [
       "array([3, 6])"
      ]
     },
     "execution_count": 20,
     "metadata": {},
     "output_type": "execute_result"
    }
   ],
   "source": [
    "np.max(stats, axis=1)"
   ]
  },
  {
   "cell_type": "code",
   "execution_count": 21,
   "id": "efd2dd85",
   "metadata": {
    "ExecuteTime": {
     "end_time": "2022-03-26T06:45:13.619236Z",
     "start_time": "2022-03-26T06:45:13.614267Z"
    }
   },
   "outputs": [
    {
     "data": {
      "text/plain": [
       "array([5, 7, 9])"
      ]
     },
     "execution_count": 21,
     "metadata": {},
     "output_type": "execute_result"
    }
   ],
   "source": [
    "np.sum(stats, axis=0)"
   ]
  },
  {
   "cell_type": "markdown",
   "id": "9c80ae82",
   "metadata": {},
   "source": [
    "## Reorganizing Arrays"
   ]
  },
  {
   "cell_type": "code",
   "execution_count": 22,
   "id": "e7ff746b",
   "metadata": {
    "ExecuteTime": {
     "end_time": "2022-03-26T07:11:04.406026Z",
     "start_time": "2022-03-26T07:11:04.400893Z"
    }
   },
   "outputs": [
    {
     "name": "stdout",
     "output_type": "stream",
     "text": [
      "[[1 2 3 4]\n",
      " [5 6 7 8]]\n",
      "[[1]\n",
      " [2]\n",
      " [3]\n",
      " [4]\n",
      " [5]\n",
      " [6]\n",
      " [7]\n",
      " [8]]\n"
     ]
    }
   ],
   "source": [
    "before = np.array([[1, 2, 3, 4], [5, 6, 7, 8]])\n",
    "print(before)\n",
    "\n",
    "after = before.reshape((8, 1))\n",
    "print(after)"
   ]
  },
  {
   "cell_type": "code",
   "execution_count": 23,
   "id": "49b0eabd",
   "metadata": {
    "ExecuteTime": {
     "end_time": "2022-03-26T07:13:46.587331Z",
     "start_time": "2022-03-26T07:13:46.581231Z"
    }
   },
   "outputs": [
    {
     "data": {
      "text/plain": [
       "array([[1, 2, 3, 4],\n",
       "       [5, 6, 7, 8],\n",
       "       [1, 2, 3, 4],\n",
       "       [5, 6, 7, 8]])"
      ]
     },
     "execution_count": 23,
     "metadata": {},
     "output_type": "execute_result"
    }
   ],
   "source": [
    "# Verticallly stacking vectors\n",
    "\n",
    "v1 = np.array([1, 2, 3, 4])\n",
    "v2 = np.array([5, 6, 7, 8])\n",
    "\n",
    "np.vstack([v1, v2, v1, v2])"
   ]
  },
  {
   "cell_type": "code",
   "execution_count": 24,
   "id": "c590b164",
   "metadata": {
    "ExecuteTime": {
     "end_time": "2022-03-26T07:14:37.108605Z",
     "start_time": "2022-03-26T07:14:37.101472Z"
    }
   },
   "outputs": [
    {
     "data": {
      "text/plain": [
       "array([[1., 1., 1., 1., 0., 0.],\n",
       "       [1., 1., 1., 1., 0., 0.]])"
      ]
     },
     "execution_count": 24,
     "metadata": {},
     "output_type": "execute_result"
    }
   ],
   "source": [
    "# Horizontal stack\n",
    "h1 = np.ones((2, 4))\n",
    "h2 = np.zeros((2, 2))\n",
    "\n",
    "np.hstack((h1, h2))"
   ]
  },
  {
   "cell_type": "markdown",
   "id": "5dfae547",
   "metadata": {},
   "source": [
    "## Miscellaneous\n",
    "#### Load Data From File"
   ]
  },
  {
   "cell_type": "code",
   "execution_count": 29,
   "id": "5a1554b2",
   "metadata": {
    "ExecuteTime": {
     "end_time": "2022-03-26T07:23:53.624388Z",
     "start_time": "2022-03-26T07:23:53.618474Z"
    }
   },
   "outputs": [
    {
     "data": {
      "text/plain": [
       "array([[  1,  13,  21,  11, 196,  75,   4,   3,  34,   6,   7,   8,   0,\n",
       "          1,   2,   3,   4,   5],\n",
       "       [  3,  42,  12,  33, 766,  75,   4,  55,   6,   4,   3,   4,   5,\n",
       "          6,   7,   0,  11,  12],\n",
       "       [  1,  22,  33,  11, 999,  11,   2,   1,  78,   0,   1,   2,   9,\n",
       "          8,   7,   1,  76,  88]], dtype=int32)"
      ]
     },
     "execution_count": 29,
     "metadata": {},
     "output_type": "execute_result"
    }
   ],
   "source": [
    "filedata = np.genfromtxt('data/data.txt', delimiter=',')\n",
    "filedata = filedata.astype('int32')\n",
    "filedata"
   ]
  },
  {
   "cell_type": "markdown",
   "id": "e08f1fbd",
   "metadata": {
    "ExecuteTime": {
     "end_time": "2022-03-26T07:23:39.164814Z",
     "start_time": "2022-03-26T07:23:39.158759Z"
    }
   },
   "source": [
    "#### Boolean Masking and Advanced Indexing"
   ]
  },
  {
   "cell_type": "code",
   "execution_count": 31,
   "id": "b55be206",
   "metadata": {
    "ExecuteTime": {
     "end_time": "2022-03-26T07:25:13.282048Z",
     "start_time": "2022-03-26T07:25:13.276275Z"
    }
   },
   "outputs": [
    {
     "data": {
      "text/plain": [
       "array([[False, False, False, False,  True,  True, False, False, False,\n",
       "        False, False, False, False, False, False, False, False, False],\n",
       "       [False, False, False, False,  True,  True, False,  True, False,\n",
       "        False, False, False, False, False, False, False, False, False],\n",
       "       [False, False, False, False,  True, False, False, False,  True,\n",
       "        False, False, False, False, False, False, False,  True,  True]])"
      ]
     },
     "execution_count": 31,
     "metadata": {},
     "output_type": "execute_result"
    }
   ],
   "source": [
    "filedata > 50"
   ]
  },
  {
   "cell_type": "code",
   "execution_count": 32,
   "id": "4cb02619",
   "metadata": {
    "ExecuteTime": {
     "end_time": "2022-03-26T07:25:23.643238Z",
     "start_time": "2022-03-26T07:25:23.638588Z"
    }
   },
   "outputs": [
    {
     "data": {
      "text/plain": [
       "array([196,  75, 766,  75,  55, 999,  78,  76,  88], dtype=int32)"
      ]
     },
     "execution_count": 32,
     "metadata": {},
     "output_type": "execute_result"
    }
   ],
   "source": [
    "filedata[filedata > 50]"
   ]
  },
  {
   "cell_type": "code",
   "execution_count": 34,
   "id": "393798c1",
   "metadata": {
    "ExecuteTime": {
     "end_time": "2022-03-26T07:33:28.929370Z",
     "start_time": "2022-03-26T07:33:28.922974Z"
    }
   },
   "outputs": [
    {
     "data": {
      "text/plain": [
       "array([2, 3, 9])"
      ]
     },
     "execution_count": 34,
     "metadata": {},
     "output_type": "execute_result"
    }
   ],
   "source": [
    "# We can index with a list in Numpy\n",
    "a = np.array([1, 2, 3, 4, 5, 6, 7, 8, 9])\n",
    "a[[1, 2, 8]]"
   ]
  },
  {
   "cell_type": "code",
   "execution_count": 35,
   "id": "433c832a",
   "metadata": {
    "ExecuteTime": {
     "end_time": "2022-03-26T07:34:53.357334Z",
     "start_time": "2022-03-26T07:34:53.352321Z"
    }
   },
   "outputs": [
    {
     "data": {
      "text/plain": [
       "array([False, False, False, False,  True, False, False, False, False,\n",
       "       False, False, False, False, False, False, False, False, False])"
      ]
     },
     "execution_count": 35,
     "metadata": {},
     "output_type": "execute_result"
    }
   ],
   "source": [
    "np.all(filedata > 50, axis = 0)"
   ]
  },
  {
   "cell_type": "code",
   "execution_count": 36,
   "id": "04b4212d",
   "metadata": {
    "ExecuteTime": {
     "end_time": "2022-03-26T07:36:33.848700Z",
     "start_time": "2022-03-26T07:36:33.842759Z"
    }
   },
   "outputs": [
    {
     "data": {
      "text/plain": [
       "array([[ True,  True,  True,  True,  True, False,  True,  True,  True,\n",
       "         True,  True,  True,  True,  True,  True,  True,  True,  True],\n",
       "       [ True,  True,  True,  True,  True, False,  True, False,  True,\n",
       "         True,  True,  True,  True,  True,  True,  True,  True,  True],\n",
       "       [ True,  True,  True,  True,  True,  True,  True,  True, False,\n",
       "         True,  True,  True,  True,  True,  True,  True, False, False]])"
      ]
     },
     "execution_count": 36,
     "metadata": {},
     "output_type": "execute_result"
    }
   ],
   "source": [
    "(~((filedata > 50) & (filedata < 100)))"
   ]
  },
  {
   "cell_type": "code",
   "execution_count": null,
   "id": "48b765bf",
   "metadata": {},
   "outputs": [],
   "source": []
  }
 ],
 "metadata": {
  "kernelspec": {
   "display_name": "Python 3 (ipykernel)",
   "language": "python",
   "name": "python3"
  },
  "language_info": {
   "codemirror_mode": {
    "name": "ipython",
    "version": 3
   },
   "file_extension": ".py",
   "mimetype": "text/x-python",
   "name": "python",
   "nbconvert_exporter": "python",
   "pygments_lexer": "ipython3",
   "version": "3.9.7"
  }
 },
 "nbformat": 4,
 "nbformat_minor": 5
}
