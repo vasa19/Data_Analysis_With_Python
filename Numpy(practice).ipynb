{
 "cells": [
  {
   "cell_type": "markdown",
   "id": "098b3618",
   "metadata": {},
   "source": [
    "### Intro to NumPy"
   ]
  },
  {
   "cell_type": "code",
   "execution_count": 1,
   "id": "63391ac1",
   "metadata": {
    "ExecuteTime": {
     "end_time": "2022-03-26T10:04:42.488059Z",
     "start_time": "2022-03-26T10:04:41.330894Z"
    }
   },
   "outputs": [],
   "source": [
    "import numpy as np"
   ]
  },
  {
   "cell_type": "code",
   "execution_count": 8,
   "id": "4d29d627",
   "metadata": {
    "ExecuteTime": {
     "end_time": "2022-03-26T10:08:22.482570Z",
     "start_time": "2022-03-26T10:08:22.477212Z"
    }
   },
   "outputs": [
    {
     "data": {
      "text/plain": [
       "array([10, 20, 30, 40])"
      ]
     },
     "execution_count": 8,
     "metadata": {},
     "output_type": "execute_result"
    }
   ],
   "source": [
    "# Single-dimensional array\n",
    "n1 = np.array([10, 20, 30, 40])\n",
    "n1"
   ]
  },
  {
   "cell_type": "code",
   "execution_count": 9,
   "id": "eafb182e",
   "metadata": {
    "ExecuteTime": {
     "end_time": "2022-03-26T10:08:23.920010Z",
     "start_time": "2022-03-26T10:08:23.914843Z"
    }
   },
   "outputs": [
    {
     "data": {
      "text/plain": [
       "array([[10, 20, 30, 40],\n",
       "       [40, 30, 20, 10]])"
      ]
     },
     "execution_count": 9,
     "metadata": {},
     "output_type": "execute_result"
    }
   ],
   "source": [
    "# Multi-dimensional array\n",
    "n2 = np.array([[10, 20, 30, 40], [40, 30, 20, 10]])\n",
    "n2"
   ]
  },
  {
   "cell_type": "code",
   "execution_count": 10,
   "id": "063f4f80",
   "metadata": {
    "ExecuteTime": {
     "end_time": "2022-03-26T10:08:24.882379Z",
     "start_time": "2022-03-26T10:08:24.878363Z"
    }
   },
   "outputs": [
    {
     "name": "stdout",
     "output_type": "stream",
     "text": [
      "<class 'numpy.ndarray'>\n",
      "<class 'numpy.ndarray'>\n"
     ]
    }
   ],
   "source": [
    "print(type(n1))\n",
    "print(type(n2))"
   ]
  },
  {
   "cell_type": "code",
   "execution_count": 11,
   "id": "f2f71dfd",
   "metadata": {
    "ExecuteTime": {
     "end_time": "2022-03-26T10:08:25.959599Z",
     "start_time": "2022-03-26T10:08:25.954555Z"
    }
   },
   "outputs": [
    {
     "data": {
      "text/plain": [
       "array([[0, 0, 0, 0],\n",
       "       [0, 0, 0, 0],\n",
       "       [0, 0, 0, 0]], dtype=int32)"
      ]
     },
     "execution_count": 11,
     "metadata": {},
     "output_type": "execute_result"
    }
   ],
   "source": [
    "# Initializing NumPy array with zeros\n",
    "n3 = np.zeros((3, 4), dtype = 'int32')\n",
    "n3"
   ]
  },
  {
   "cell_type": "code",
   "execution_count": 12,
   "id": "18e1da7d",
   "metadata": {
    "ExecuteTime": {
     "end_time": "2022-03-26T10:23:59.518961Z",
     "start_time": "2022-03-26T10:23:59.514331Z"
    }
   },
   "outputs": [
    {
     "data": {
      "text/plain": [
       "array([[5, 5, 5],\n",
       "       [5, 5, 5],\n",
       "       [5, 5, 5]])"
      ]
     },
     "execution_count": 12,
     "metadata": {},
     "output_type": "execute_result"
    }
   ],
   "source": [
    "# Initializing NumPy array with same number\n",
    "n4 = np.full((3, 3), 5)\n",
    "n4"
   ]
  },
  {
   "cell_type": "code",
   "execution_count": 13,
   "id": "19641b9e",
   "metadata": {
    "ExecuteTime": {
     "end_time": "2022-03-26T10:25:09.358132Z",
     "start_time": "2022-03-26T10:25:09.352400Z"
    }
   },
   "outputs": [
    {
     "data": {
      "text/plain": [
       "array([10, 11, 12, 13, 14, 15, 16, 17, 18, 19])"
      ]
     },
     "execution_count": 13,
     "metadata": {},
     "output_type": "execute_result"
    }
   ],
   "source": [
    "# Initializing NumPy array within a range\n",
    "n5 = np.arange(10, 20)\n",
    "n5"
   ]
  },
  {
   "cell_type": "code",
   "execution_count": 15,
   "id": "d2ae2771",
   "metadata": {
    "ExecuteTime": {
     "end_time": "2022-03-26T10:25:34.079035Z",
     "start_time": "2022-03-26T10:25:34.074058Z"
    }
   },
   "outputs": [
    {
     "data": {
      "text/plain": [
       "array([10, 15, 20, 25, 30, 35, 40, 45, 50])"
      ]
     },
     "execution_count": 15,
     "metadata": {},
     "output_type": "execute_result"
    }
   ],
   "source": [
    "n6 = np.arange(10, 51, 5)\n",
    "n6"
   ]
  },
  {
   "cell_type": "code",
   "execution_count": 17,
   "id": "858a974c",
   "metadata": {
    "ExecuteTime": {
     "end_time": "2022-03-26T10:28:04.303293Z",
     "start_time": "2022-03-26T10:28:04.298445Z"
    }
   },
   "outputs": [
    {
     "data": {
      "text/plain": [
       "array([ 1, 21,  6, 31, 47])"
      ]
     },
     "execution_count": 17,
     "metadata": {},
     "output_type": "execute_result"
    }
   ],
   "source": [
    "# Initializing NumPy array with random numbers\n",
    "n7 = np.random.randint(1, 50, 5)\n",
    "n7"
   ]
  },
  {
   "cell_type": "code",
   "execution_count": 18,
   "id": "3406aa78",
   "metadata": {
    "ExecuteTime": {
     "end_time": "2022-03-26T10:29:07.053408Z",
     "start_time": "2022-03-26T10:29:07.048048Z"
    }
   },
   "outputs": [
    {
     "data": {
      "text/plain": [
       "(2, 3)"
      ]
     },
     "execution_count": 18,
     "metadata": {},
     "output_type": "execute_result"
    }
   ],
   "source": [
    "# Checking the shape of NumPy array\n",
    "n8 = np.array([[1, 2, 3], [4, 5, 6]])\n",
    "n8.shape"
   ]
  },
  {
   "cell_type": "code",
   "execution_count": 19,
   "id": "79e0d919",
   "metadata": {
    "ExecuteTime": {
     "end_time": "2022-03-26T10:29:47.724980Z",
     "start_time": "2022-03-26T10:29:47.720633Z"
    }
   },
   "outputs": [
    {
     "data": {
      "text/plain": [
       "array([[1, 2],\n",
       "       [3, 4],\n",
       "       [5, 6]])"
      ]
     },
     "execution_count": 19,
     "metadata": {},
     "output_type": "execute_result"
    }
   ],
   "source": [
    "n8.shape = (3, 2)\n",
    "n8"
   ]
  },
  {
   "cell_type": "markdown",
   "id": "3129e8db",
   "metadata": {},
   "source": [
    "### Joing NumPy Arrays"
   ]
  },
  {
   "cell_type": "code",
   "execution_count": 20,
   "id": "8b5d7a6d",
   "metadata": {
    "ExecuteTime": {
     "end_time": "2022-03-26T10:32:45.331276Z",
     "start_time": "2022-03-26T10:32:45.326042Z"
    }
   },
   "outputs": [
    {
     "data": {
      "text/plain": [
       "array([[10, 20, 30],\n",
       "       [40, 50, 60]])"
      ]
     },
     "execution_count": 20,
     "metadata": {},
     "output_type": "execute_result"
    }
   ],
   "source": [
    "# vstack\n",
    "n10 = np.array([10,20,30])\n",
    "n11 = np.array([40,50,60])\n",
    "\n",
    "np.vstack((n10, n11))"
   ]
  },
  {
   "cell_type": "code",
   "execution_count": 21,
   "id": "fc1a4370",
   "metadata": {
    "ExecuteTime": {
     "end_time": "2022-03-26T10:33:19.384522Z",
     "start_time": "2022-03-26T10:33:19.378392Z"
    }
   },
   "outputs": [
    {
     "data": {
      "text/plain": [
       "array([10, 20, 30, 40, 50, 60])"
      ]
     },
     "execution_count": 21,
     "metadata": {},
     "output_type": "execute_result"
    }
   ],
   "source": [
    "# hstack\n",
    "n12 = np.array([10,20,30])\n",
    "n13 = np.array([40,50,60])\n",
    "\n",
    "np.hstack((n12, n13))"
   ]
  },
  {
   "cell_type": "code",
   "execution_count": 22,
   "id": "b7ad70d0",
   "metadata": {
    "ExecuteTime": {
     "end_time": "2022-03-26T10:33:45.335381Z",
     "start_time": "2022-03-26T10:33:45.329307Z"
    }
   },
   "outputs": [
    {
     "data": {
      "text/plain": [
       "array([[10, 40],\n",
       "       [20, 50],\n",
       "       [30, 60]])"
      ]
     },
     "execution_count": 22,
     "metadata": {},
     "output_type": "execute_result"
    }
   ],
   "source": [
    "n14 = np.array([10,20,30])\n",
    "n15 = np.array([40,50,60])\n",
    "\n",
    "np.column_stack((n14, n15))"
   ]
  },
  {
   "cell_type": "markdown",
   "id": "6f614c4f",
   "metadata": {},
   "source": [
    "### NumPy Intersection and Difference"
   ]
  },
  {
   "cell_type": "code",
   "execution_count": 25,
   "id": "0943a5cf",
   "metadata": {
    "ExecuteTime": {
     "end_time": "2022-03-26T10:40:42.006413Z",
     "start_time": "2022-03-26T10:40:42.000153Z"
    }
   },
   "outputs": [
    {
     "data": {
      "text/plain": [
       "array([50, 60])"
      ]
     },
     "execution_count": 25,
     "metadata": {},
     "output_type": "execute_result"
    }
   ],
   "source": [
    "n20 = np.array([10,20,30,40,50,60])\n",
    "n21 = np.array([50,60,70,80,90])\n",
    "\n",
    "np.intersect1d(n20, n21)"
   ]
  },
  {
   "cell_type": "code",
   "execution_count": 26,
   "id": "b5f59e1a",
   "metadata": {
    "ExecuteTime": {
     "end_time": "2022-03-26T10:40:49.565530Z",
     "start_time": "2022-03-26T10:40:49.559811Z"
    }
   },
   "outputs": [
    {
     "data": {
      "text/plain": [
       "array([10, 20, 30, 40])"
      ]
     },
     "execution_count": 26,
     "metadata": {},
     "output_type": "execute_result"
    }
   ],
   "source": [
    "np.setdiff1d(n20, n21)"
   ]
  },
  {
   "cell_type": "code",
   "execution_count": 27,
   "id": "66df2f2e",
   "metadata": {
    "ExecuteTime": {
     "end_time": "2022-03-26T10:41:03.543571Z",
     "start_time": "2022-03-26T10:41:03.538470Z"
    }
   },
   "outputs": [
    {
     "data": {
      "text/plain": [
       "array([70, 80, 90])"
      ]
     },
     "execution_count": 27,
     "metadata": {},
     "output_type": "execute_result"
    }
   ],
   "source": [
    "np.setdiff1d(n21, n20)"
   ]
  },
  {
   "cell_type": "markdown",
   "id": "fe616750",
   "metadata": {},
   "source": [
    "### NumPy Array Mathematics"
   ]
  },
  {
   "cell_type": "code",
   "execution_count": 28,
   "id": "f1143ebc",
   "metadata": {
    "ExecuteTime": {
     "end_time": "2022-03-26T10:47:39.223600Z",
     "start_time": "2022-03-26T10:47:39.217111Z"
    }
   },
   "outputs": [
    {
     "data": {
      "text/plain": [
       "100"
      ]
     },
     "execution_count": 28,
     "metadata": {},
     "output_type": "execute_result"
    }
   ],
   "source": [
    "# Addition of NumPy array\n",
    "n22 = np.array([10,20])\n",
    "n23 = np.array([30,40])\n",
    "\n",
    "np.sum([n22, n23])"
   ]
  },
  {
   "cell_type": "code",
   "execution_count": 29,
   "id": "d044d002",
   "metadata": {
    "ExecuteTime": {
     "end_time": "2022-03-26T10:48:07.637047Z",
     "start_time": "2022-03-26T10:48:07.631131Z"
    }
   },
   "outputs": [
    {
     "data": {
      "text/plain": [
       "array([40, 60])"
      ]
     },
     "execution_count": 29,
     "metadata": {},
     "output_type": "execute_result"
    }
   ],
   "source": [
    "np.sum([n22, n23], axis = 0)"
   ]
  },
  {
   "cell_type": "code",
   "execution_count": 30,
   "id": "06e869fa",
   "metadata": {
    "ExecuteTime": {
     "end_time": "2022-03-26T10:48:16.577661Z",
     "start_time": "2022-03-26T10:48:16.572167Z"
    }
   },
   "outputs": [
    {
     "data": {
      "text/plain": [
       "array([30, 70])"
      ]
     },
     "execution_count": 30,
     "metadata": {},
     "output_type": "execute_result"
    }
   ],
   "source": [
    "np.sum([n22, n23], axis = 1)"
   ]
  },
  {
   "cell_type": "code",
   "execution_count": 31,
   "id": "0013738f",
   "metadata": {
    "ExecuteTime": {
     "end_time": "2022-03-26T10:49:05.776187Z",
     "start_time": "2022-03-26T10:49:05.770478Z"
    }
   },
   "outputs": [
    {
     "data": {
      "text/plain": [
       "array([15, 25])"
      ]
     },
     "execution_count": 31,
     "metadata": {},
     "output_type": "execute_result"
    }
   ],
   "source": [
    "# Bais Addition\n",
    "n22 = n22 + 5\n",
    "n22"
   ]
  },
  {
   "cell_type": "code",
   "execution_count": 32,
   "id": "372fd1d3",
   "metadata": {
    "ExecuteTime": {
     "end_time": "2022-03-26T10:49:39.252899Z",
     "start_time": "2022-03-26T10:49:39.247952Z"
    }
   },
   "outputs": [
    {
     "data": {
      "text/plain": [
       "array([60, 80])"
      ]
     },
     "execution_count": 32,
     "metadata": {},
     "output_type": "execute_result"
    }
   ],
   "source": [
    "# Basic Multiplication\n",
    "n23 = n23 * 2\n",
    "n23"
   ]
  },
  {
   "cell_type": "code",
   "execution_count": 33,
   "id": "fbcd9944",
   "metadata": {
    "ExecuteTime": {
     "end_time": "2022-03-26T10:50:29.571663Z",
     "start_time": "2022-03-26T10:50:29.565460Z"
    }
   },
   "outputs": [
    {
     "data": {
      "text/plain": [
       "20.0"
      ]
     },
     "execution_count": 33,
     "metadata": {},
     "output_type": "execute_result"
    }
   ],
   "source": [
    "# Mean\n",
    "np.mean(n22)"
   ]
  },
  {
   "cell_type": "code",
   "execution_count": 34,
   "id": "861f6dcb",
   "metadata": {
    "ExecuteTime": {
     "end_time": "2022-03-26T10:50:49.340789Z",
     "start_time": "2022-03-26T10:50:49.335518Z"
    }
   },
   "outputs": [
    {
     "data": {
      "text/plain": [
       "5.0"
      ]
     },
     "execution_count": 34,
     "metadata": {},
     "output_type": "execute_result"
    }
   ],
   "source": [
    "# Standard Deviation\n",
    "np.std(n22)"
   ]
  },
  {
   "cell_type": "code",
   "execution_count": 35,
   "id": "f24c4517",
   "metadata": {
    "ExecuteTime": {
     "end_time": "2022-03-26T10:51:24.112204Z",
     "start_time": "2022-03-26T10:51:24.106158Z"
    }
   },
   "outputs": [
    {
     "data": {
      "text/plain": [
       "20.0"
      ]
     },
     "execution_count": 35,
     "metadata": {},
     "output_type": "execute_result"
    }
   ],
   "source": [
    "# Median\n",
    "np.median(n22)"
   ]
  },
  {
   "cell_type": "markdown",
   "id": "bb1d4a6e",
   "metadata": {},
   "source": [
    "### Saving and Loading Numpy Arrays"
   ]
  },
  {
   "cell_type": "code",
   "execution_count": 36,
   "id": "ba52e777",
   "metadata": {
    "ExecuteTime": {
     "end_time": "2022-03-26T10:54:16.163584Z",
     "start_time": "2022-03-26T10:54:16.157816Z"
    }
   },
   "outputs": [],
   "source": [
    "# Saving Numpy Array\n",
    "n25 = np.array([10, 20, 30, 40, 50, 60])\n",
    "np.save('final_numpy_array', n25)"
   ]
  },
  {
   "cell_type": "code",
   "execution_count": 37,
   "id": "3979c0e5",
   "metadata": {
    "ExecuteTime": {
     "end_time": "2022-03-26T10:55:01.284015Z",
     "start_time": "2022-03-26T10:55:01.278449Z"
    }
   },
   "outputs": [
    {
     "data": {
      "text/plain": [
       "array([10, 20, 30, 40, 50, 60])"
      ]
     },
     "execution_count": 37,
     "metadata": {},
     "output_type": "execute_result"
    }
   ],
   "source": [
    "n26 = np.load('final_numpy_array.npy')\n",
    "n26"
   ]
  }
 ],
 "metadata": {
  "kernelspec": {
   "display_name": "Python 3 (ipykernel)",
   "language": "python",
   "name": "python3"
  },
  "language_info": {
   "codemirror_mode": {
    "name": "ipython",
    "version": 3
   },
   "file_extension": ".py",
   "mimetype": "text/x-python",
   "name": "python",
   "nbconvert_exporter": "python",
   "pygments_lexer": "ipython3",
   "version": "3.9.7"
  }
 },
 "nbformat": 4,
 "nbformat_minor": 5
}
